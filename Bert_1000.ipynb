{
 "cells": [
  {
   "cell_type": "code",
   "execution_count": 1,
   "id": "c12ddbb4-ffb7-4c3a-a83d-527481aebe3f",
   "metadata": {},
   "outputs": [
    {
     "name": "stdout",
     "output_type": "stream",
     "text": [
      "Fri Apr 12 11:29:08 2024       \n",
      "+-----------------------------------------------------------------------------------------+\n",
      "| NVIDIA-SMI 550.54.14              Driver Version: 550.54.14      CUDA Version: 12.4     |\n",
      "|-----------------------------------------+------------------------+----------------------+\n",
      "| GPU  Name                 Persistence-M | Bus-Id          Disp.A | Volatile Uncorr. ECC |\n",
      "| Fan  Temp   Perf          Pwr:Usage/Cap |           Memory-Usage | GPU-Util  Compute M. |\n",
      "|                                         |                        |               MIG M. |\n",
      "|=========================================+========================+======================|\n",
      "|   0  NVIDIA A40                     Off |   00000000:CA:00.0 Off |                    0 |\n",
      "|  0%   60C    P0            227W /  300W |   29849MiB /  46068MiB |     97%      Default |\n",
      "|                                         |                        |                  N/A |\n",
      "+-----------------------------------------+------------------------+----------------------+\n",
      "                                                                                         \n",
      "+-----------------------------------------------------------------------------------------+\n",
      "| Processes:                                                                              |\n",
      "|  GPU   GI   CI        PID   Type   Process name                              GPU Memory |\n",
      "|        ID   ID                                                               Usage      |\n",
      "|=========================================================================================|\n",
      "|    0   N/A  N/A   1942753      C   python                                       7804MiB |\n",
      "|    0   N/A  N/A   1950719      C   /home/anjaliraj/miniconda3/bin/python        3442MiB |\n",
      "|    0   N/A  N/A   1951491      C   /home/anjaliraj/miniconda3/bin/python       18584MiB |\n",
      "+-----------------------------------------------------------------------------------------+\n"
     ]
    }
   ],
   "source": [
    "!nvidia-smi"
   ]
  },
  {
   "cell_type": "code",
   "execution_count": 2,
   "id": "1a19a650-a958-4ad2-a70b-f46e79fef634",
   "metadata": {},
   "outputs": [
    {
     "name": "stdout",
     "output_type": "stream",
     "text": [
      "Requirement already satisfied: wordcloud in /home/anjaliraj/miniconda3/lib/python3.12/site-packages (1.9.3)\n",
      "Requirement already satisfied: numpy>=1.6.1 in /home/anjaliraj/miniconda3/lib/python3.12/site-packages (from wordcloud) (1.26.4)\n",
      "Requirement already satisfied: pillow in /home/anjaliraj/miniconda3/lib/python3.12/site-packages (from wordcloud) (10.2.0)\n",
      "Requirement already satisfied: matplotlib in /home/anjaliraj/miniconda3/lib/python3.12/site-packages (from wordcloud) (3.8.3)\n",
      "Requirement already satisfied: contourpy>=1.0.1 in /home/anjaliraj/miniconda3/lib/python3.12/site-packages (from matplotlib->wordcloud) (1.2.0)\n",
      "Requirement already satisfied: cycler>=0.10 in /home/anjaliraj/miniconda3/lib/python3.12/site-packages (from matplotlib->wordcloud) (0.12.1)\n",
      "Requirement already satisfied: fonttools>=4.22.0 in /home/anjaliraj/miniconda3/lib/python3.12/site-packages (from matplotlib->wordcloud) (4.49.0)\n",
      "Requirement already satisfied: kiwisolver>=1.3.1 in /home/anjaliraj/miniconda3/lib/python3.12/site-packages (from matplotlib->wordcloud) (1.4.5)\n",
      "Requirement already satisfied: packaging>=20.0 in /home/anjaliraj/miniconda3/lib/python3.12/site-packages (from matplotlib->wordcloud) (23.1)\n",
      "Requirement already satisfied: pyparsing>=2.3.1 in /home/anjaliraj/miniconda3/lib/python3.12/site-packages (from matplotlib->wordcloud) (3.1.1)\n",
      "Requirement already satisfied: python-dateutil>=2.7 in /home/anjaliraj/miniconda3/lib/python3.12/site-packages (from matplotlib->wordcloud) (2.9.0)\n",
      "Requirement already satisfied: six>=1.5 in /home/anjaliraj/miniconda3/lib/python3.12/site-packages (from python-dateutil>=2.7->matplotlib->wordcloud) (1.16.0)\n",
      "Requirement already satisfied: nltk in /home/anjaliraj/miniconda3/lib/python3.12/site-packages (3.8.1)\n",
      "Requirement already satisfied: click in /home/anjaliraj/miniconda3/lib/python3.12/site-packages (from nltk) (8.1.7)\n",
      "Requirement already satisfied: joblib in /home/anjaliraj/miniconda3/lib/python3.12/site-packages (from nltk) (1.3.2)\n",
      "Requirement already satisfied: regex>=2021.8.3 in /home/anjaliraj/miniconda3/lib/python3.12/site-packages (from nltk) (2023.12.25)\n",
      "Requirement already satisfied: tqdm in /home/anjaliraj/miniconda3/lib/python3.12/site-packages (from nltk) (4.65.0)\n"
     ]
    }
   ],
   "source": [
    "import numpy as np\n",
    "import pandas as pd\n",
    "import re\n",
    "\n",
    "import matplotlib.pyplot as plt\n",
    "import seaborn as sns\n",
    "sns.set_style(\"darkgrid\")\n",
    "\n",
    "import string\n",
    "!pip install wordcloud\n",
    "!pip install nltk\n",
    "from wordcloud import WordCloud\n",
    "from nltk import word_tokenize\n",
    "from nltk.corpus import stopwords\n",
    "from nltk.stem import WordNetLemmatizer\n",
    "\n",
    "from sklearn.metrics import confusion_matrix, f1_score\n",
    "from tqdm import tqdm"
   ]
  },
  {
   "cell_type": "code",
   "execution_count": 3,
   "id": "5a253177-5dda-4927-9e9c-6c274bf6abaf",
   "metadata": {},
   "outputs": [
    {
     "name": "stdout",
     "output_type": "stream",
     "text": [
      "(1500, 2)\n"
     ]
    },
    {
     "data": {
      "text/html": [
       "<div>\n",
       "<style scoped>\n",
       "    .dataframe tbody tr th:only-of-type {\n",
       "        vertical-align: middle;\n",
       "    }\n",
       "\n",
       "    .dataframe tbody tr th {\n",
       "        vertical-align: top;\n",
       "    }\n",
       "\n",
       "    .dataframe thead th {\n",
       "        text-align: right;\n",
       "    }\n",
       "</style>\n",
       "<table border=\"1\" class=\"dataframe\">\n",
       "  <thead>\n",
       "    <tr style=\"text-align: right;\">\n",
       "      <th></th>\n",
       "      <th>review</th>\n",
       "      <th>sentiment</th>\n",
       "    </tr>\n",
       "  </thead>\n",
       "  <tbody>\n",
       "    <tr>\n",
       "      <th>0</th>\n",
       "      <td>One of the other reviewers has mentioned that ...</td>\n",
       "      <td>positive</td>\n",
       "    </tr>\n",
       "    <tr>\n",
       "      <th>1</th>\n",
       "      <td>A wonderful little production. &lt;br /&gt;&lt;br /&gt;The...</td>\n",
       "      <td>positive</td>\n",
       "    </tr>\n",
       "    <tr>\n",
       "      <th>2</th>\n",
       "      <td>I thought this was a wonderful way to spend ti...</td>\n",
       "      <td>positive</td>\n",
       "    </tr>\n",
       "    <tr>\n",
       "      <th>3</th>\n",
       "      <td>Basically there's a family where a little boy ...</td>\n",
       "      <td>negative</td>\n",
       "    </tr>\n",
       "    <tr>\n",
       "      <th>4</th>\n",
       "      <td>Petter Mattei's \"Love in the Time of Money\" is...</td>\n",
       "      <td>positive</td>\n",
       "    </tr>\n",
       "  </tbody>\n",
       "</table>\n",
       "</div>"
      ],
      "text/plain": [
       "                                              review sentiment\n",
       "0  One of the other reviewers has mentioned that ...  positive\n",
       "1  A wonderful little production. <br /><br />The...  positive\n",
       "2  I thought this was a wonderful way to spend ti...  positive\n",
       "3  Basically there's a family where a little boy ...  negative\n",
       "4  Petter Mattei's \"Love in the Time of Money\" is...  positive"
      ]
     },
     "execution_count": 3,
     "metadata": {},
     "output_type": "execute_result"
    }
   ],
   "source": [
    "filename = \"/home/anjaliraj/Amit/BTP2/IMDB Dataset.csv\"\n",
    "df_train = pd.read_csv(filename)[:1500]\n",
    "print (df_train.shape)\n",
    "df_train.head()"
   ]
  },
  {
   "cell_type": "code",
   "execution_count": 4,
   "id": "ff339315-4275-4285-a9c3-6f566384ce06",
   "metadata": {},
   "outputs": [
    {
     "data": {
      "text/html": [
       "<div>\n",
       "<style scoped>\n",
       "    .dataframe tbody tr th:only-of-type {\n",
       "        vertical-align: middle;\n",
       "    }\n",
       "\n",
       "    .dataframe tbody tr th {\n",
       "        vertical-align: top;\n",
       "    }\n",
       "\n",
       "    .dataframe thead th {\n",
       "        text-align: right;\n",
       "    }\n",
       "</style>\n",
       "<table border=\"1\" class=\"dataframe\">\n",
       "  <thead>\n",
       "    <tr style=\"text-align: right;\">\n",
       "      <th></th>\n",
       "      <th>review</th>\n",
       "      <th>sentiment</th>\n",
       "    </tr>\n",
       "  </thead>\n",
       "  <tbody>\n",
       "    <tr>\n",
       "      <th>0</th>\n",
       "      <td>One of the other reviewers has mentioned that ...</td>\n",
       "      <td>1</td>\n",
       "    </tr>\n",
       "    <tr>\n",
       "      <th>1</th>\n",
       "      <td>A wonderful little production. &lt;br /&gt;&lt;br /&gt;The...</td>\n",
       "      <td>1</td>\n",
       "    </tr>\n",
       "    <tr>\n",
       "      <th>2</th>\n",
       "      <td>I thought this was a wonderful way to spend ti...</td>\n",
       "      <td>1</td>\n",
       "    </tr>\n",
       "    <tr>\n",
       "      <th>3</th>\n",
       "      <td>Basically there's a family where a little boy ...</td>\n",
       "      <td>0</td>\n",
       "    </tr>\n",
       "    <tr>\n",
       "      <th>4</th>\n",
       "      <td>Petter Mattei's \"Love in the Time of Money\" is...</td>\n",
       "      <td>1</td>\n",
       "    </tr>\n",
       "    <tr>\n",
       "      <th>...</th>\n",
       "      <td>...</td>\n",
       "      <td>...</td>\n",
       "    </tr>\n",
       "    <tr>\n",
       "      <th>1495</th>\n",
       "      <td>This movie is terrible, it was so difficult to...</td>\n",
       "      <td>0</td>\n",
       "    </tr>\n",
       "    <tr>\n",
       "      <th>1496</th>\n",
       "      <td>The only thing serious about this movie is the...</td>\n",
       "      <td>1</td>\n",
       "    </tr>\n",
       "    <tr>\n",
       "      <th>1497</th>\n",
       "      <td>2005 was one of the best year for movies. We h...</td>\n",
       "      <td>1</td>\n",
       "    </tr>\n",
       "    <tr>\n",
       "      <th>1498</th>\n",
       "      <td>According to John Ford's lyrically shot, ficti...</td>\n",
       "      <td>1</td>\n",
       "    </tr>\n",
       "    <tr>\n",
       "      <th>1499</th>\n",
       "      <td>Where to start... If this movie had been a dar...</td>\n",
       "      <td>0</td>\n",
       "    </tr>\n",
       "  </tbody>\n",
       "</table>\n",
       "<p>1500 rows × 2 columns</p>\n",
       "</div>"
      ],
      "text/plain": [
       "                                                 review  sentiment\n",
       "0     One of the other reviewers has mentioned that ...          1\n",
       "1     A wonderful little production. <br /><br />The...          1\n",
       "2     I thought this was a wonderful way to spend ti...          1\n",
       "3     Basically there's a family where a little boy ...          0\n",
       "4     Petter Mattei's \"Love in the Time of Money\" is...          1\n",
       "...                                                 ...        ...\n",
       "1495  This movie is terrible, it was so difficult to...          0\n",
       "1496  The only thing serious about this movie is the...          1\n",
       "1497  2005 was one of the best year for movies. We h...          1\n",
       "1498  According to John Ford's lyrically shot, ficti...          1\n",
       "1499  Where to start... If this movie had been a dar...          0\n",
       "\n",
       "[1500 rows x 2 columns]"
      ]
     },
     "execution_count": 4,
     "metadata": {},
     "output_type": "execute_result"
    }
   ],
   "source": [
    "df_train['sentiment'] = df_train['sentiment'].astype('category').cat.codes\n",
    "df_train['sentiment'] = df_train['sentiment'].astype(\"int64\")\n",
    "df_train"
   ]
  },
  {
   "cell_type": "code",
   "execution_count": 5,
   "id": "a74c2502-ff25-465b-80e6-c2bb9fb8ea63",
   "metadata": {},
   "outputs": [
    {
     "data": {
      "image/png": "[encoded data removed]",
      "text/plain": [
       "<Figure size 800x500 with 1 Axes>"
      ]
     },
     "metadata": {},
     "output_type": "display_data"
    }
   ],
   "source": [
    "plt.figure(figsize=(8,5))\n",
    "temp = df_train['sentiment'].value_counts()\n",
    "sns.barplot(x=temp.index, y=temp.values)\n",
    "plt.xlabel(\"sentiment\", weight='bold', fontsize=15)\n",
    "plt.ylabel(\"Number of Tweets\", weight='bold', fontsize=15)\n",
    "plt.show()"
   ]
  },
  {
   "cell_type": "code",
   "execution_count": 38,
   "id": "310f3325-2ec6-415c-8b5f-c8956397ba10",
   "metadata": {},
   "outputs": [],
   "source": [
    "from sklearn.model_selection import train_test_split\n",
    "\n",
    "X = df_train.review.values\n",
    "y = df_train.sentiment.values\n",
    "\n",
    "X_train, X_val, y_train, y_val =\\\n",
    "    train_test_split(X, y, test_size=0.333, random_state=2020)"
   ]
  },
  {
   "cell_type": "code",
   "execution_count": 39,
   "id": "0cedceeb-6a97-42ea-857a-dbafdb7c849f",
   "metadata": {},
   "outputs": [
    {
     "name": "stdout",
     "output_type": "stream",
     "text": [
      "(1000,)\n",
      "(500,)\n"
     ]
    }
   ],
   "source": [
    "print(X_train.shape)\n",
    "print(X_val.shape)"
   ]
  },
  {
   "cell_type": "code",
   "execution_count": 58,
   "id": "704305f7-f81f-4f77-819c-fe384fe2e9db",
   "metadata": {},
   "outputs": [
    {
     "name": "stdout",
     "output_type": "stream",
     "text": [
      "(100, 2)\n"
     ]
    },
    {
     "data": {
      "text/html": [
       "<div>\n",
       "<style scoped>\n",
       "    .dataframe tbody tr th:only-of-type {\n",
       "        vertical-align: middle;\n",
       "    }\n",
       "\n",
       "    .dataframe tbody tr th {\n",
       "        vertical-align: top;\n",
       "    }\n",
       "\n",
       "    .dataframe thead th {\n",
       "        text-align: right;\n",
       "    }\n",
       "</style>\n",
       "<table border=\"1\" class=\"dataframe\">\n",
       "  <thead>\n",
       "    <tr style=\"text-align: right;\">\n",
       "      <th></th>\n",
       "      <th>review</th>\n",
       "      <th>sentiment</th>\n",
       "    </tr>\n",
       "  </thead>\n",
       "  <tbody>\n",
       "    <tr>\n",
       "      <th>1500</th>\n",
       "      <td>Oh dear god. This was horrible. There is bad, ...</td>\n",
       "      <td>negative</td>\n",
       "    </tr>\n",
       "    <tr>\n",
       "      <th>1501</th>\n",
       "      <td>Yes, bad acting isn't only one thing to mentio...</td>\n",
       "      <td>negative</td>\n",
       "    </tr>\n",
       "    <tr>\n",
       "      <th>1502</th>\n",
       "      <td>I don't think that many films (especially come...</td>\n",
       "      <td>positive</td>\n",
       "    </tr>\n",
       "    <tr>\n",
       "      <th>1503</th>\n",
       "      <td>One has to wonder if at any point in the produ...</td>\n",
       "      <td>negative</td>\n",
       "    </tr>\n",
       "    <tr>\n",
       "      <th>1504</th>\n",
       "      <td>This time around, Blackadder is no longer roya...</td>\n",
       "      <td>positive</td>\n",
       "    </tr>\n",
       "    <tr>\n",
       "      <th>...</th>\n",
       "      <td>...</td>\n",
       "      <td>...</td>\n",
       "    </tr>\n",
       "    <tr>\n",
       "      <th>1595</th>\n",
       "      <td>The unflappable William Powell. He is a joy to...</td>\n",
       "      <td>positive</td>\n",
       "    </tr>\n",
       "    <tr>\n",
       "      <th>1596</th>\n",
       "      <td>What we have here is a downright brilliant pie...</td>\n",
       "      <td>negative</td>\n",
       "    </tr>\n",
       "    <tr>\n",
       "      <th>1597</th>\n",
       "      <td>This is one of my favourite films, dating back...</td>\n",
       "      <td>positive</td>\n",
       "    </tr>\n",
       "    <tr>\n",
       "      <th>1598</th>\n",
       "      <td>I have a feeling that the Warners Bros Depress...</td>\n",
       "      <td>positive</td>\n",
       "    </tr>\n",
       "    <tr>\n",
       "      <th>1599</th>\n",
       "      <td>This is a novelty in Danish film. The mood is ...</td>\n",
       "      <td>positive</td>\n",
       "    </tr>\n",
       "  </tbody>\n",
       "</table>\n",
       "<p>100 rows × 2 columns</p>\n",
       "</div>"
      ],
      "text/plain": [
       "                                                 review sentiment\n",
       "1500  Oh dear god. This was horrible. There is bad, ...  negative\n",
       "1501  Yes, bad acting isn't only one thing to mentio...  negative\n",
       "1502  I don't think that many films (especially come...  positive\n",
       "1503  One has to wonder if at any point in the produ...  negative\n",
       "1504  This time around, Blackadder is no longer roya...  positive\n",
       "...                                                 ...       ...\n",
       "1595  The unflappable William Powell. He is a joy to...  positive\n",
       "1596  What we have here is a downright brilliant pie...  negative\n",
       "1597  This is one of my favourite films, dating back...  positive\n",
       "1598  I have a feeling that the Warners Bros Depress...  positive\n",
       "1599  This is a novelty in Danish film. The mood is ...  positive\n",
       "\n",
       "[100 rows x 2 columns]"
      ]
     },
     "execution_count": 58,
     "metadata": {},
     "output_type": "execute_result"
    }
   ],
   "source": [
    "df_test = pd.read_csv(filename)[1500:1600]\n",
    "print (df_test.shape)\n",
    "df_test"
   ]
  },
  {
   "cell_type": "code",
   "execution_count": 59,
   "id": "d3d5aec2-13de-4faf-a75a-81dcf8d9b88c",
   "metadata": {},
   "outputs": [
    {
     "data": {
      "text/html": [
       "<div>\n",
       "<style scoped>\n",
       "    .dataframe tbody tr th:only-of-type {\n",
       "        vertical-align: middle;\n",
       "    }\n",
       "\n",
       "    .dataframe tbody tr th {\n",
       "        vertical-align: top;\n",
       "    }\n",
       "\n",
       "    .dataframe thead th {\n",
       "        text-align: right;\n",
       "    }\n",
       "</style>\n",
       "<table border=\"1\" class=\"dataframe\">\n",
       "  <thead>\n",
       "    <tr style=\"text-align: right;\">\n",
       "      <th></th>\n",
       "      <th>review</th>\n",
       "      <th>sentiment</th>\n",
       "    </tr>\n",
       "  </thead>\n",
       "  <tbody>\n",
       "    <tr>\n",
       "      <th>1500</th>\n",
       "      <td>Oh dear god. This was horrible. There is bad, ...</td>\n",
       "      <td>0</td>\n",
       "    </tr>\n",
       "    <tr>\n",
       "      <th>1501</th>\n",
       "      <td>Yes, bad acting isn't only one thing to mentio...</td>\n",
       "      <td>0</td>\n",
       "    </tr>\n",
       "    <tr>\n",
       "      <th>1502</th>\n",
       "      <td>I don't think that many films (especially come...</td>\n",
       "      <td>1</td>\n",
       "    </tr>\n",
       "    <tr>\n",
       "      <th>1503</th>\n",
       "      <td>One has to wonder if at any point in the produ...</td>\n",
       "      <td>0</td>\n",
       "    </tr>\n",
       "    <tr>\n",
       "      <th>1504</th>\n",
       "      <td>This time around, Blackadder is no longer roya...</td>\n",
       "      <td>1</td>\n",
       "    </tr>\n",
       "    <tr>\n",
       "      <th>...</th>\n",
       "      <td>...</td>\n",
       "      <td>...</td>\n",
       "    </tr>\n",
       "    <tr>\n",
       "      <th>1595</th>\n",
       "      <td>The unflappable William Powell. He is a joy to...</td>\n",
       "      <td>1</td>\n",
       "    </tr>\n",
       "    <tr>\n",
       "      <th>1596</th>\n",
       "      <td>What we have here is a downright brilliant pie...</td>\n",
       "      <td>0</td>\n",
       "    </tr>\n",
       "    <tr>\n",
       "      <th>1597</th>\n",
       "      <td>This is one of my favourite films, dating back...</td>\n",
       "      <td>1</td>\n",
       "    </tr>\n",
       "    <tr>\n",
       "      <th>1598</th>\n",
       "      <td>I have a feeling that the Warners Bros Depress...</td>\n",
       "      <td>1</td>\n",
       "    </tr>\n",
       "    <tr>\n",
       "      <th>1599</th>\n",
       "      <td>This is a novelty in Danish film. The mood is ...</td>\n",
       "      <td>1</td>\n",
       "    </tr>\n",
       "  </tbody>\n",
       "</table>\n",
       "<p>100 rows × 2 columns</p>\n",
       "</div>"
      ],
      "text/plain": [
       "                                                 review  sentiment\n",
       "1500  Oh dear god. This was horrible. There is bad, ...          0\n",
       "1501  Yes, bad acting isn't only one thing to mentio...          0\n",
       "1502  I don't think that many films (especially come...          1\n",
       "1503  One has to wonder if at any point in the produ...          0\n",
       "1504  This time around, Blackadder is no longer roya...          1\n",
       "...                                                 ...        ...\n",
       "1595  The unflappable William Powell. He is a joy to...          1\n",
       "1596  What we have here is a downright brilliant pie...          0\n",
       "1597  This is one of my favourite films, dating back...          1\n",
       "1598  I have a feeling that the Warners Bros Depress...          1\n",
       "1599  This is a novelty in Danish film. The mood is ...          1\n",
       "\n",
       "[100 rows x 2 columns]"
      ]
     },
     "execution_count": 59,
     "metadata": {},
     "output_type": "execute_result"
    }
   ],
   "source": [
    "df_test['sentiment'] = df_test['sentiment'].astype('category').cat.codes\n",
    "df_test['sentiment'] = df_test['sentiment'].astype(\"int64\")\n",
    "df_test"
   ]
  },
  {
   "cell_type": "code",
   "execution_count": 60,
   "id": "40c37201-35b4-40b9-a379-49967415d3f7",
   "metadata": {},
   "outputs": [
    {
     "name": "stdout",
     "output_type": "stream",
     "text": [
      "There are 1 GPU(s) available.\n",
      "Device name: NVIDIA A40\n"
     ]
    }
   ],
   "source": [
    "import torch\n",
    "\n",
    "if torch.cuda.is_available():       \n",
    "    device = torch.device(\"cuda\")\n",
    "    print(f'There are {torch.cuda.device_count()} GPU(s) available.')\n",
    "    print('Device name:', torch.cuda.get_device_name(0))\n",
    "\n",
    "else:\n",
    "    print('No GPU available, using the CPU instead.')\n",
    "    device = torch.device(\"cpu\")"
   ]
  },
  {
   "cell_type": "code",
   "execution_count": 61,
   "id": "e78c0877-d098-48c5-aa9f-98e2672d5e2a",
   "metadata": {},
   "outputs": [
    {
     "name": "stdout",
     "output_type": "stream",
     "text": [
      "Requirement already satisfied: transformers in /home/anjaliraj/miniconda3/lib/python3.12/site-packages (4.39.0.dev0)\n",
      "Requirement already satisfied: filelock in /home/anjaliraj/miniconda3/lib/python3.12/site-packages (from transformers) (3.13.1)\n",
      "Requirement already satisfied: huggingface-hub<1.0,>=0.19.3 in /home/anjaliraj/miniconda3/lib/python3.12/site-packages (from transformers) (0.21.3)\n",
      "Requirement already satisfied: numpy>=1.17 in /home/anjaliraj/miniconda3/lib/python3.12/site-packages (from transformers) (1.26.4)\n",
      "Requirement already satisfied: packaging>=20.0 in /home/anjaliraj/miniconda3/lib/python3.12/site-packages (from transformers) (23.1)\n",
      "Requirement already satisfied: pyyaml>=5.1 in /home/anjaliraj/miniconda3/lib/python3.12/site-packages (from transformers) (6.0.1)\n",
      "Requirement already satisfied: regex!=2019.12.17 in /home/anjaliraj/miniconda3/lib/python3.12/site-packages (from transformers) (2023.12.25)\n",
      "Requirement already satisfied: requests in /home/anjaliraj/miniconda3/lib/python3.12/site-packages (from transformers) (2.31.0)\n",
      "Requirement already satisfied: tokenizers<0.19,>=0.14 in /home/anjaliraj/miniconda3/lib/python3.12/site-packages (from transformers) (0.15.2)\n",
      "Requirement already satisfied: safetensors>=0.4.1 in /home/anjaliraj/miniconda3/lib/python3.12/site-packages (from transformers) (0.4.2)\n",
      "Requirement already satisfied: tqdm>=4.27 in /home/anjaliraj/miniconda3/lib/python3.12/site-packages (from transformers) (4.65.0)\n",
      "Requirement already satisfied: fsspec>=2023.5.0 in /home/anjaliraj/miniconda3/lib/python3.12/site-packages (from huggingface-hub<1.0,>=0.19.3->transformers) (2023.10.0)\n",
      "Requirement already satisfied: typing-extensions>=3.7.4.3 in /home/anjaliraj/miniconda3/lib/python3.12/site-packages (from huggingface-hub<1.0,>=0.19.3->transformers) (4.9.0)\n",
      "Requirement already satisfied: charset-normalizer<4,>=2 in /home/anjaliraj/miniconda3/lib/python3.12/site-packages (from requests->transformers) (2.0.4)\n",
      "Requirement already satisfied: idna<4,>=2.5 in /home/anjaliraj/miniconda3/lib/python3.12/site-packages (from requests->transformers) (3.4)\n",
      "Requirement already satisfied: urllib3<3,>=1.21.1 in /home/anjaliraj/miniconda3/lib/python3.12/site-packages (from requests->transformers) (2.1.0)\n",
      "Requirement already satisfied: certifi>=2017.4.17 in /home/anjaliraj/miniconda3/lib/python3.12/site-packages (from requests->transformers) (2024.2.2)\n"
     ]
    }
   ],
   "source": [
    "!pip install transformers"
   ]
  },
  {
   "cell_type": "code",
   "execution_count": 62,
   "id": "0f4d72c3-84b2-4a69-bf66-8874c474fc60",
   "metadata": {},
   "outputs": [],
   "source": [
    "def text_preprocessing(text):\n",
    "    \"\"\"\n",
    "    - Remove entity mentions (eg. '@united')\n",
    "    - Correct errors (eg. '&amp;' to '&')\n",
    "    @param    text (str): a string to be processed.\n",
    "    @return   text (Str): the processed string.\n",
    "    \"\"\"\n",
    "    # Remove '@name'\n",
    "    text = re.sub(r'(@.*?)[\\s]', ' ', text)\n",
    "\n",
    "    # Replace '&amp;' with '&'\n",
    "    text = re.sub(r'&amp;', '&', text)\n",
    "\n",
    "    # Remove trailing whitespace\n",
    "    text = re.sub(r'\\s+', ' ', text).strip()\n",
    "\n",
    "    return text"
   ]
  },
  {
   "cell_type": "code",
   "execution_count": 63,
   "id": "04cbba6e-41e8-46f9-9e38-abd09df17031",
   "metadata": {},
   "outputs": [
    {
     "name": "stdout",
     "output_type": "stream",
     "text": [
      "Original:  One of the other reviewers has mentioned that after watching just 1 Oz episode you'll be hooked. They are right, as this is exactly what happened with me.<br /><br />The first thing that struck me about Oz was its brutality and unflinching scenes of violence, which set in right from the word GO. Trust me, this is not a show for the faint hearted or timid. This show pulls no punches with regards to drugs, sex or violence. Its is hardcore, in the classic use of the word.<br /><br />It is called OZ as that is the nickname given to the Oswald Maximum Security State Penitentary. It focuses mainly on Emerald City, an experimental section of the prison where all the cells have glass fronts and face inwards, so privacy is not high on the agenda. Em City is home to many..Aryans, Muslims, gangstas, Latinos, Christians, Italians, Irish and more....so scuffles, death stares, dodgy dealings and shady agreements are never far away.<br /><br />I would say the main appeal of the show is due to the fact that it goes where other shows wouldn't dare. Forget pretty pictures painted for mainstream audiences, forget charm, forget romance...OZ doesn't mess around. The first episode I ever saw struck me as so nasty it was surreal, I couldn't say I was ready for it, but as I watched more, I developed a taste for Oz, and got accustomed to the high levels of graphic violence. Not just violence, but injustice (crooked guards who'll be sold out for a nickel, inmates who'll kill on order and get away with it, well mannered, middle class inmates being turned into prison bitches due to their lack of street skills or prison experience) Watching Oz, you may become comfortable with what is uncomfortable viewing....thats if you can get in touch with your darker side.\n",
      "Processed:  One of the other reviewers has mentioned that after watching just 1 Oz episode you'll be hooked. They are right, as this is exactly what happened with me.<br /><br />The first thing that struck me about Oz was its brutality and unflinching scenes of violence, which set in right from the word GO. Trust me, this is not a show for the faint hearted or timid. This show pulls no punches with regards to drugs, sex or violence. Its is hardcore, in the classic use of the word.<br /><br />It is called OZ as that is the nickname given to the Oswald Maximum Security State Penitentary. It focuses mainly on Emerald City, an experimental section of the prison where all the cells have glass fronts and face inwards, so privacy is not high on the agenda. Em City is home to many..Aryans, Muslims, gangstas, Latinos, Christians, Italians, Irish and more....so scuffles, death stares, dodgy dealings and shady agreements are never far away.<br /><br />I would say the main appeal of the show is due to the fact that it goes where other shows wouldn't dare. Forget pretty pictures painted for mainstream audiences, forget charm, forget romance...OZ doesn't mess around. The first episode I ever saw struck me as so nasty it was surreal, I couldn't say I was ready for it, but as I watched more, I developed a taste for Oz, and got accustomed to the high levels of graphic violence. Not just violence, but injustice (crooked guards who'll be sold out for a nickel, inmates who'll kill on order and get away with it, well mannered, middle class inmates being turned into prison bitches due to their lack of street skills or prison experience) Watching Oz, you may become comfortable with what is uncomfortable viewing....thats if you can get in touch with your darker side.\n"
     ]
    }
   ],
   "source": [
    "# Print sentence 0\n",
    "print('Original: ', X[0])\n",
    "print('Processed: ', text_preprocessing(X[0]))"
   ]
  },
  {
   "cell_type": "code",
   "execution_count": 64,
   "id": "c2c7257f-ae79-4f6b-ba49-424734dbccba",
   "metadata": {},
   "outputs": [
    {
     "name": "stdout",
     "output_type": "stream",
     "text": [
      "Fri Apr 12 11:33:49 2024       \n",
      "+-----------------------------------------------------------------------------------------+\n",
      "| NVIDIA-SMI 550.54.14              Driver Version: 550.54.14      CUDA Version: 12.4     |\n",
      "|-----------------------------------------+------------------------+----------------------+\n",
      "| GPU  Name                 Persistence-M | Bus-Id          Disp.A | Volatile Uncorr. ECC |\n",
      "| Fan  Temp   Perf          Pwr:Usage/Cap |           Memory-Usage | GPU-Util  Compute M. |\n",
      "|                                         |                        |               MIG M. |\n",
      "|=========================================+========================+======================|\n",
      "|   0  NVIDIA A40                     Off |   00000000:CA:00.0 Off |                    0 |\n",
      "|  0%   60C    P0            221W /  300W |   33230MiB /  46068MiB |     97%      Default |\n",
      "|                                         |                        |                  N/A |\n",
      "+-----------------------------------------+------------------------+----------------------+\n",
      "                                                                                         \n",
      "+-----------------------------------------------------------------------------------------+\n",
      "| Processes:                                                                              |\n",
      "|  GPU   GI   CI        PID   Type   Process name                              GPU Memory |\n",
      "|        ID   ID                                                               Usage      |\n",
      "|=========================================================================================|\n",
      "|    0   N/A  N/A   1942753      C   python                                       7804MiB |\n",
      "|    0   N/A  N/A   1950719      C   /home/anjaliraj/miniconda3/bin/python        3442MiB |\n",
      "|    0   N/A  N/A   1951491      C   /home/anjaliraj/miniconda3/bin/python       18584MiB |\n",
      "|    0   N/A  N/A   1953826      C   /home/anjaliraj/miniconda3/bin/python        3376MiB |\n",
      "+-----------------------------------------------------------------------------------------+\n"
     ]
    }
   ],
   "source": [
    "!nvidia-smi"
   ]
  },
  {
   "cell_type": "code",
   "execution_count": 65,
   "id": "709fc9f7-96ad-4343-9207-e4995ae7820a",
   "metadata": {},
   "outputs": [],
   "source": [
    "from transformers import BertTokenizer\n",
    "\n",
    "# Load the BERT tokenizer\n",
    "tokenizer = BertTokenizer.from_pretrained('bert-base-uncased', do_lower_case=True)\n",
    "\n",
    "# Create a function to tokenize a set of texts\n",
    "def preprocessing_for_bert(data):\n",
    "    \"\"\"Perform required preprocessing steps for pretrained BERT.\n",
    "    @param    data (np.array): Array of texts to be processed.\n",
    "    @return   input_ids (torch.Tensor): Tensor of token ids to be fed to a model.\n",
    "    @return   attention_masks (torch.Tensor): Tensor of indices specifying which\n",
    "                  tokens should be attended to by the model.\n",
    "    \"\"\"\n",
    "    # Create empty lists to store outputs\n",
    "    input_ids = []\n",
    "    attention_masks = []\n",
    "\n",
    "    # For every sentence...\n",
    "    for sent in data:\n",
    "        # `encode_plus` will:\n",
    "        #    (1) Tokenize the sentence\n",
    "        #    (2) Add the `[CLS]` and `[SEP]` token to the start and end\n",
    "        #    (3) Truncate/Pad sentence to max length\n",
    "        #    (4) Map tokens to their IDs\n",
    "        #    (5) Create attention mask\n",
    "        #    (6) Return a dictionary of outputs\n",
    "        encoded_sent = tokenizer.encode_plus(\n",
    "            text=text_preprocessing(sent),  # Preprocess sentence\n",
    "            add_special_tokens=True,        # Add `[CLS]` and `[SEP]`\n",
    "            max_length=MAX_LEN,                  # Max length to truncate/pad\n",
    "            pad_to_max_length=True,         # Pad sentence to max length\n",
    "            #return_tensors='pt',           # Return PyTorch tensor\n",
    "            return_attention_mask=True      # Return attention mask\n",
    "            )\n",
    "        \n",
    "        # Add the outputs to the lists\n",
    "        input_ids.append(encoded_sent.get('input_ids'))\n",
    "        attention_masks.append(encoded_sent.get('attention_mask'))\n",
    "\n",
    "    # Convert lists to tensors\n",
    "    input_ids = torch.tensor(input_ids)\n",
    "    attention_masks = torch.tensor(attention_masks)\n",
    "\n",
    "    return input_ids, attention_masks"
   ]
  },
  {
   "cell_type": "code",
   "execution_count": 66,
   "id": "30cdcbbb-b2a3-42c2-83a2-15d1ffc4c169",
   "metadata": {},
   "outputs": [
    {
     "name": "stderr",
     "output_type": "stream",
     "text": [
      "Token indices sequence length is longer than the specified maximum sequence length for this model (563 > 512). Running this sequence through the model will result in indexing errors\n"
     ]
    },
    {
     "name": "stdout",
     "output_type": "stream",
     "text": [
      "Max length:  1959\n"
     ]
    }
   ],
   "source": [
    "# Concatenate train data and test data\n",
    "all_tweets = np.concatenate([df_train.review.values,df_test.review.values])\n",
    "\n",
    "# Encode our concatenated data\n",
    "encoded_tweets = [tokenizer.encode(sent, add_special_tokens=True) for sent in all_tweets]\n",
    "\n",
    "# Find the maximum length\n",
    "max_len = max([len(sent) for sent in encoded_tweets])\n",
    "print('Max length: ', max_len)"
   ]
  },
  {
   "cell_type": "code",
   "execution_count": 67,
   "id": "7fc21459-7a74-4267-b675-7895c56f61ce",
   "metadata": {},
   "outputs": [
    {
     "name": "stderr",
     "output_type": "stream",
     "text": [
      "Truncation was not explicitly activated but `max_length` is provided a specific value, please use `truncation=True` to explicitly truncate examples to max length. Defaulting to 'longest_first' truncation strategy. If you encode pairs of sequences (GLUE-style) with the tokenizer you can select this strategy more precisely by providing a specific strategy to `truncation`.\n",
      "/home/anjaliraj/miniconda3/lib/python3.12/site-packages/transformers/tokenization_utils_base.py:2645: FutureWarning: The `pad_to_max_length` argument is deprecated and will be removed in a future version, use `padding=True` or `padding='longest'` to pad to the longest sequence in the batch, or use `padding='max_length'` to pad to a max length. In this case, you can give a specific length with `max_length` (e.g. `max_length=45`) or leave max_length to None to pad to the maximal input size of the model (e.g. 512 for Bert).\n",
      "  warnings.warn(\n"
     ]
    },
    {
     "name": "stdout",
     "output_type": "stream",
     "text": [
      "Original:  One of the other reviewers has mentioned that after watching just 1 Oz episode you'll be hooked. They are right, as this is exactly what happened with me.<br /><br />The first thing that struck me about Oz was its brutality and unflinching scenes of violence, which set in right from the word GO. Trust me, this is not a show for the faint hearted or timid. This show pulls no punches with regards to drugs, sex or violence. Its is hardcore, in the classic use of the word.<br /><br />It is called OZ as that is the nickname given to the Oswald Maximum Security State Penitentary. It focuses mainly on Emerald City, an experimental section of the prison where all the cells have glass fronts and face inwards, so privacy is not high on the agenda. Em City is home to many..Aryans, Muslims, gangstas, Latinos, Christians, Italians, Irish and more....so scuffles, death stares, dodgy dealings and shady agreements are never far away.<br /><br />I would say the main appeal of the show is due to the fact that it goes where other shows wouldn't dare. Forget pretty pictures painted for mainstream audiences, forget charm, forget romance...OZ doesn't mess around. The first episode I ever saw struck me as so nasty it was surreal, I couldn't say I was ready for it, but as I watched more, I developed a taste for Oz, and got accustomed to the high levels of graphic violence. Not just violence, but injustice (crooked guards who'll be sold out for a nickel, inmates who'll kill on order and get away with it, well mannered, middle class inmates being turned into prison bitches due to their lack of street skills or prison experience) Watching Oz, you may become comfortable with what is uncomfortable viewing....thats if you can get in touch with your darker side.\n",
      "Token IDs:  [101, 2028, 1997, 1996, 2060, 15814, 2038, 3855, 2008, 2044, 3666, 2074, 1015, 11472, 2792, 2017, 1005, 2222, 2022, 13322, 1012, 2027, 2024, 2157, 1010, 2004, 2023, 2003, 3599, 2054, 3047, 2007, 2033, 1012, 1026, 7987, 1013, 1028, 1026, 7987, 1013, 1028, 1996, 2034, 2518, 2008, 4930, 2033, 2055, 11472, 2001, 2049, 24083, 1998, 4895, 10258, 2378, 8450, 5019, 1997, 4808, 1010, 2029, 102]\n",
      "Tokenizing data...\n"
     ]
    }
   ],
   "source": [
    "MAX_LEN = 64\n",
    "\n",
    "# Print sentence 0 and its encoded token ids\n",
    "token_ids = list(preprocessing_for_bert([X[0]])[0].squeeze().numpy())\n",
    "print('Original: ', X[0])\n",
    "print('Token IDs: ', token_ids)\n",
    "\n",
    "# Run function `preprocessing_for_bert` on the train set and the validation set\n",
    "print('Tokenizing data...')\n",
    "train_inputs, train_masks = preprocessing_for_bert(X_train)\n",
    "val_inputs, val_masks = preprocessing_for_bert(X_val)"
   ]
  },
  {
   "cell_type": "code",
   "execution_count": 68,
   "id": "00cc00a4-9145-47aa-b518-b301ff27ba46",
   "metadata": {},
   "outputs": [],
   "source": [
    "from torch.utils.data import TensorDataset, DataLoader, RandomSampler, SequentialSampler\n",
    "\n",
    "# Convert other data types to torch.Tensor\n",
    "train_labels = torch.tensor(y_train)\n",
    "val_labels = torch.tensor(y_val)\n",
    "\n",
    "# For fine-tuning BERT, the authors recommend a batch size of 16 or 32.\n",
    "batch_size = 32\n",
    "\n",
    "# Create the DataLoader for our training set\n",
    "train_data = TensorDataset(train_inputs, train_masks, train_labels)\n",
    "train_sampler = RandomSampler(train_data)\n",
    "train_dataloader = DataLoader(train_data, sampler=train_sampler, batch_size=batch_size)\n",
    "\n",
    "# Create the DataLoader for our validation set\n",
    "val_data = TensorDataset(val_inputs, val_masks, val_labels)\n",
    "val_sampler = SequentialSampler(val_data)\n",
    "val_dataloader = DataLoader(val_data, sampler=val_sampler, batch_size=batch_size)"
   ]
  },
  {
   "cell_type": "code",
   "execution_count": 69,
   "id": "24581a88-402c-427b-9dcf-0dd3aeb0c691",
   "metadata": {},
   "outputs": [
    {
     "name": "stdout",
     "output_type": "stream",
     "text": [
      "CPU times: user 64 µs, sys: 12 µs, total: 76 µs\n",
      "Wall time: 81.3 µs\n"
     ]
    }
   ],
   "source": [
    "%%time\n",
    "import torch\n",
    "import torch.nn as nn\n",
    "from transformers import BertModel\n",
    "\n",
    "# Create the BertClassfier class\n",
    "class BertClassifier(nn.Module):\n",
    "    \"\"\"Bert Model for Classification Tasks.\n",
    "    \"\"\"\n",
    "    def __init__(self, freeze_bert=False):\n",
    "        \"\"\"\n",
    "        @param    bert: a BertModel object\n",
    "        @param    classifier: a torch.nn.Module classifier\n",
    "        @param    freeze_bert (bool): Set `False` to fine-tune the BERT model\n",
    "        \"\"\"\n",
    "        super(BertClassifier, self).__init__()\n",
    "        # Specify hidden size of BERT, hidden size of our classifier, and number of labels\n",
    "        D_in, H, D_out = 768, 50, 2\n",
    "\n",
    "        # Instantiate BERT model\n",
    "        self.bert = BertModel.from_pretrained('bert-base-uncased')\n",
    "\n",
    "        # Instantiate an one-layer feed-forward classifier\n",
    "        self.classifier = nn.Sequential(\n",
    "            nn.Linear(D_in, H),\n",
    "            nn.ReLU(),\n",
    "            #nn.Dropout(0.5),\n",
    "            nn.Linear(H, D_out)\n",
    "        )\n",
    "\n",
    "        # Freeze the BERT model\n",
    "        if freeze_bert:\n",
    "            for param in self.bert.parameters():\n",
    "                param.requires_grad = False\n",
    "        \n",
    "    def forward(self, input_ids, attention_mask):\n",
    "        \"\"\"\n",
    "        Feed input to BERT and the classifier to compute logits.\n",
    "        @param    input_ids (torch.Tensor): an input tensor with shape (batch_size,\n",
    "                      max_length)\n",
    "        @param    attention_mask (torch.Tensor): a tensor that hold attention mask\n",
    "                      information with shape (batch_size, max_length)\n",
    "        @return   logits (torch.Tensor): an output tensor with shape (batch_size,\n",
    "                      num_labels)\n",
    "        \"\"\"\n",
    "        # Feed input to BERT\n",
    "        outputs = self.bert(input_ids=input_ids,\n",
    "                            attention_mask=attention_mask)\n",
    "        \n",
    "        # Extract the last hidden state of the token `[CLS]` for classification task\n",
    "        last_hidden_state_cls = outputs[0][:, 0, :]\n",
    "\n",
    "        # Feed input to classifier to compute logits\n",
    "        logits = self.classifier(last_hidden_state_cls)\n",
    "\n",
    "        return logits\n"
   ]
  },
  {
   "cell_type": "code",
   "execution_count": 70,
   "id": "3146bace-c3a5-4877-9eb5-c8a0b24ef0ee",
   "metadata": {},
   "outputs": [],
   "source": [
    "from transformers import AdamW, get_linear_schedule_with_warmup\n",
    "\n",
    "def initialize_model(epochs=4):\n",
    "    \"\"\"Initialize the Bert Classifier, the optimizer and the learning rate scheduler.\n",
    "    \"\"\"\n",
    "    # Instantiate Bert Classifier\n",
    "    bert_classifier = BertClassifier(freeze_bert=False)\n",
    "\n",
    "    # Tell PyTorch to run the model on GPU\n",
    "    bert_classifier.to(device)\n",
    "\n",
    "    # Create the optimizer\n",
    "    optimizer = AdamW(bert_classifier.parameters(),\n",
    "                      lr=5e-5,    # Default learning rate\n",
    "                      eps=1e-8    # Default epsilon value\n",
    "                      )\n",
    "\n",
    "    # Total number of training steps\n",
    "    total_steps = len(train_dataloader) * epochs\n",
    "\n",
    "    # Set up the learning rate scheduler\n",
    "    scheduler = get_linear_schedule_with_warmup(optimizer,\n",
    "                                                num_warmup_steps=0, # Default value\n",
    "                                                num_training_steps=total_steps)\n",
    "    return bert_classifier, optimizer, scheduler"
   ]
  },
  {
   "cell_type": "code",
   "execution_count": 71,
   "id": "d43c64d7-a8c9-473f-8173-ee01fd29445c",
   "metadata": {},
   "outputs": [],
   "source": [
    "import random\n",
    "import time\n",
    "\n",
    "# Specify loss function\n",
    "loss_fn = nn.CrossEntropyLoss()\n",
    "\n",
    "def set_seed(seed_value=42):\n",
    "    \"\"\"Set seed for reproducibility.\n",
    "    \"\"\"\n",
    "    random.seed(seed_value)\n",
    "    np.random.seed(seed_value)\n",
    "    torch.manual_seed(seed_value)\n",
    "    torch.cuda.manual_seed_all(seed_value)\n",
    "\n",
    "def train(model, train_dataloader, val_dataloader=None, epochs=4, evaluation=False):\n",
    "    \"\"\"Train the BertClassifier model.\n",
    "    \"\"\"\n",
    "    # Start training loop\n",
    "    print(\"Start training...\\n\")\n",
    "    for epoch_i in range(epochs):\n",
    "        # =======================================\n",
    "        #               Training\n",
    "        # =======================================\n",
    "        # Print the header of the result table\n",
    "        print(f\"{'Epoch':^7} | {'Batch':^7} | {'Train Loss':^12} | {'Val Loss':^10} | {'Val Acc':^9} | {'Elapsed':^9}\")\n",
    "        print(\"-\"*70)\n",
    "\n",
    "        # Measure the elapsed time of each epoch\n",
    "        t0_epoch, t0_batch = time.time(), time.time()\n",
    "\n",
    "        # Reset tracking variables at the beginning of each epoch\n",
    "        total_loss, batch_loss, batch_counts = 0, 0, 0\n",
    "\n",
    "        # Put the model into the training mode\n",
    "        model.train()\n",
    "\n",
    "        # For each batch of training data...\n",
    "        for step, batch in enumerate(train_dataloader):\n",
    "            batch_counts +=1\n",
    "            # Load batch to GPU\n",
    "            b_input_ids, b_attn_mask, b_labels = tuple(t.to(device) for t in batch)\n",
    "\n",
    "            # Zero out any previously calculated gradients\n",
    "            model.zero_grad()\n",
    "\n",
    "            # Perform a forward pass. This will return logits.\n",
    "            logits = model(b_input_ids, b_attn_mask)\n",
    "\n",
    "            # Compute loss and accumulate the loss values\n",
    "            # print(b_labels)\n",
    "            # print(\"-----------------------\\n\")\n",
    "            # print(logits)\n",
    "            loss = loss_fn(logits, b_labels)\n",
    "            batch_loss += loss.item()\n",
    "            total_loss += loss.item()\n",
    "\n",
    "            # Perform a backward pass to calculate gradients\n",
    "            loss.backward()\n",
    "\n",
    "            # Clip the norm of the gradients to 1.0 to prevent \"exploding gradients\"\n",
    "            torch.nn.utils.clip_grad_norm_(model.parameters(), 1.0)\n",
    "\n",
    "            # Update parameters and the learning rate\n",
    "            optimizer.step()\n",
    "            scheduler.step()\n",
    "\n",
    "            # Print the loss values and time elapsed for every 20 batches\n",
    "            if (step % 20 == 0 and step != 0) or (step == len(train_dataloader) - 1):\n",
    "                # Calculate time elapsed for 20 batches\n",
    "                time_elapsed = time.time() - t0_batch\n",
    "\n",
    "                # Print training results\n",
    "                print(f\"{epoch_i + 1:^7} | {step:^7} | {batch_loss / batch_counts:^12.6f} | {'-':^10} | {'-':^9} | {time_elapsed:^9.2f}\")\n",
    "\n",
    "                # Reset batch tracking variables\n",
    "                batch_loss, batch_counts = 0, 0\n",
    "                t0_batch = time.time()\n",
    "\n",
    "        # Calculate the average loss over the entire training data\n",
    "        avg_train_loss = total_loss / len(train_dataloader)\n",
    "\n",
    "        print(\"-\"*70)\n",
    "        # =======================================\n",
    "        #               Evaluation\n",
    "        # =======================================\n",
    "        if evaluation == True:\n",
    "            # After the completion of each training epoch, measure the model's performance\n",
    "            # on our validation set.\n",
    "            val_loss, val_accuracy = evaluate(model, val_dataloader)\n",
    "\n",
    "            # Print performance over the entire training data\n",
    "            time_elapsed = time.time() - t0_epoch\n",
    "            \n",
    "            print(f\"{epoch_i + 1:^7} | {'-':^7} | {avg_train_loss:^12.6f} | {val_loss:^10.6f} | {val_accuracy:^9.2f} | {time_elapsed:^9.2f}\")\n",
    "            print(\"-\"*70)\n",
    "        print(\"\\n\")\n",
    "    \n",
    "    print(\"Training complete!\")\n",
    "\n",
    "\n",
    "def evaluate(model, val_dataloader):\n",
    "    \"\"\"After the completion of each training epoch, measure the model's performance\n",
    "    on our validation set.\n",
    "    \"\"\"\n",
    "    # Put the model into the evaluation mode. The dropout layers are disabled during\n",
    "    # the test time.\n",
    "    model.eval()\n",
    "\n",
    "    # Tracking variables\n",
    "    val_accuracy = []\n",
    "    val_loss = []\n",
    "\n",
    "    # For each batch in our validation set...\n",
    "    for batch in val_dataloader:\n",
    "        # Load batch to GPU\n",
    "        b_input_ids, b_attn_mask, b_labels = tuple(t.to(device) for t in batch)\n",
    "\n",
    "        # Compute logits\n",
    "        with torch.no_grad():\n",
    "            logits = model(b_input_ids, b_attn_mask)\n",
    "\n",
    "        # Compute loss\n",
    "        loss = loss_fn(logits, b_labels)\n",
    "        val_loss.append(loss.item())\n",
    "\n",
    "        # Get the predictions\n",
    "        preds = torch.argmax(logits, dim=1).flatten()\n",
    "\n",
    "        # Calculate the accuracy rate\n",
    "        accuracy = (preds == b_labels).cpu().numpy().mean() * 100\n",
    "        val_accuracy.append(accuracy)\n",
    "\n",
    "    # Compute the average accuracy and loss over the validation set.\n",
    "    val_loss = np.mean(val_loss)\n",
    "    val_accuracy = np.mean(val_accuracy)\n",
    "\n",
    "    return val_loss, val_accuracy"
   ]
  },
  {
   "cell_type": "code",
   "execution_count": 72,
   "id": "997f1c8a-1d68-400d-aa6d-a9e50cc826e8",
   "metadata": {},
   "outputs": [
    {
     "name": "stderr",
     "output_type": "stream",
     "text": [
      "/home/anjaliraj/miniconda3/lib/python3.12/site-packages/transformers/optimization.py:429: FutureWarning: This implementation of AdamW is deprecated and will be removed in a future version. Use the PyTorch implementation torch.optim.AdamW instead, or set `no_deprecation_warning=True` to disable this warning\n",
      "  warnings.warn(\n"
     ]
    },
    {
     "name": "stdout",
     "output_type": "stream",
     "text": [
      "Start training...\n",
      "\n",
      " Epoch  |  Batch  |  Train Loss  |  Val Loss  |  Val Acc  |  Elapsed \n",
      "----------------------------------------------------------------------\n",
      "   1    |   20    |   0.690178   |     -      |     -     |   4.04   \n",
      "   1    |   31    |   0.619272   |     -      |     -     |   2.01   \n",
      "----------------------------------------------------------------------\n",
      "   1    |    -    |   0.665804   |  0.516514  |   77.15   |   7.00   \n",
      "----------------------------------------------------------------------\n",
      "\n",
      "\n",
      " Epoch  |  Batch  |  Train Loss  |  Val Loss  |  Val Acc  |  Elapsed \n",
      "----------------------------------------------------------------------\n",
      "   2    |   20    |   0.445897   |     -      |     -     |   4.05   \n",
      "   2    |   31    |   0.382954   |     -      |     -     |   2.04   \n",
      "----------------------------------------------------------------------\n",
      "   2    |    -    |   0.424260   |  0.422998  |   80.00   |   7.04   \n",
      "----------------------------------------------------------------------\n",
      "\n",
      "\n",
      "Training complete!\n"
     ]
    }
   ],
   "source": [
    "set_seed(42)    # Set seed for reproducibility\n",
    "bert_classifier, optimizer, scheduler = initialize_model(epochs=2)\n",
    "train(bert_classifier, train_dataloader, val_dataloader, epochs=2, evaluation=True)"
   ]
  },
  {
   "cell_type": "code",
   "execution_count": 73,
   "id": "0b99c9c7-e16b-42cd-9d08-52eb080bfb6f",
   "metadata": {},
   "outputs": [],
   "source": [
    "from sklearn.metrics import accuracy_score, roc_curve, auc\n",
    "\n",
    "def evaluate_roc(probs, y_true):\n",
    "    \"\"\"\n",
    "    - Print AUC and accuracy on the test set\n",
    "    - Plot ROC\n",
    "    @params    probs (np.array): an array of predicted probabilities with shape (len(y_true), 2)\n",
    "    @params    y_true (np.array): an array of the true values with shape (len(y_true),)\n",
    "    \"\"\"\n",
    "    preds = probs[:, 1]\n",
    "    fpr, tpr, threshold = roc_curve(y_true, preds)\n",
    "    roc_auc = auc(fpr, tpr)\n",
    "    print(f'AUC: {roc_auc:.4f}')\n",
    "       \n",
    "    # Get accuracy over the test set\n",
    "    y_pred = np.where(preds >= 0.5, 1, 0)\n",
    "    accuracy = accuracy_score(y_true, y_pred)\n",
    "    print(f'Accuracy: {accuracy*100:.2f}%')\n",
    "    \n",
    "    # Plot ROC AUC\n",
    "    plt.title('Receiver Operating Characteristic')\n",
    "    plt.plot(fpr, tpr, 'b', label = 'AUC = %0.2f' % roc_auc)\n",
    "    plt.legend(loc = 'lower right')\n",
    "    plt.plot([0, 1], [0, 1],'r--')\n",
    "    plt.xlim([0, 1])\n",
    "    plt.ylim([0, 1])\n",
    "    plt.ylabel('True Positive Rate')\n",
    "    plt.xlabel('False Positive Rate')\n",
    "    plt.show()"
   ]
  },
  {
   "cell_type": "code",
   "execution_count": 74,
   "id": "e15a262d-346d-4136-a504-33aa2e2f6af9",
   "metadata": {},
   "outputs": [],
   "source": [
    "import torch.nn.functional as F\n",
    "\n",
    "def bert_predict(model, test_dataloader):\n",
    "    \"\"\"Perform a forward pass on the trained BERT model to predict probabilities\n",
    "    on the test set.\n",
    "    \"\"\"\n",
    "    # Put the model into the evaluation mode. The dropout layers are disabled during\n",
    "    # the test time.\n",
    "    model.eval()\n",
    "\n",
    "    all_logits = []\n",
    "\n",
    "    # For each batch in our test set...\n",
    "    for batch in test_dataloader:\n",
    "        # Load batch to GPU\n",
    "        b_input_ids, b_attn_mask = tuple(t.to(device) for t in batch)[:2]\n",
    "\n",
    "        # Compute logits\n",
    "        with torch.no_grad():\n",
    "            logits = model(b_input_ids, b_attn_mask)\n",
    "        all_logits.append(logits)\n",
    "    \n",
    "    # Concatenate logits from each batch\n",
    "    all_logits = torch.cat(all_logits, dim=0)\n",
    "\n",
    "    # Apply softmax to calculate probabilities\n",
    "    probs = F.softmax(all_logits, dim=1).cpu().numpy()\n",
    "\n",
    "    return probs"
   ]
  },
  {
   "cell_type": "code",
   "execution_count": 75,
   "id": "725d4a02-443c-4a92-a84e-d08b2429e930",
   "metadata": {},
   "outputs": [
    {
     "name": "stdout",
     "output_type": "stream",
     "text": [
      "AUC: 0.9015\n",
      "Accuracy: 80.00%\n"
     ]
    },
    {
     "data": {
      "image/png": "[encoded data removed]",
      "text/plain": [
       "<Figure size 640x480 with 1 Axes>"
      ]
     },
     "metadata": {},
     "output_type": "display_data"
    }
   ],
   "source": [
    "# Compute predicted probabilities on the test set\n",
    "probs = bert_predict(bert_classifier, val_dataloader)\n",
    "\n",
    "# Evaluate the Bert classifier\n",
    "evaluate_roc(probs, y_val)"
   ]
  },
  {
   "cell_type": "code",
   "execution_count": 76,
   "id": "433a70b1-4aa4-479d-b918-25d6c1a58656",
   "metadata": {},
   "outputs": [
    {
     "name": "stderr",
     "output_type": "stream",
     "text": [
      "/home/anjaliraj/miniconda3/lib/python3.12/site-packages/transformers/optimization.py:429: FutureWarning: This implementation of AdamW is deprecated and will be removed in a future version. Use the PyTorch implementation torch.optim.AdamW instead, or set `no_deprecation_warning=True` to disable this warning\n",
      "  warnings.warn(\n"
     ]
    },
    {
     "name": "stdout",
     "output_type": "stream",
     "text": [
      "Start training...\n",
      "\n",
      " Epoch  |  Batch  |  Train Loss  |  Val Loss  |  Val Acc  |  Elapsed \n",
      "----------------------------------------------------------------------\n",
      "   1    |   20    |   0.653585   |     -      |     -     |   4.06   \n",
      "   1    |   40    |   0.484293   |     -      |     -     |   3.88   \n",
      "   1    |   46    |   0.471925   |     -      |     -     |   1.14   \n",
      "----------------------------------------------------------------------\n",
      "\n",
      "\n",
      " Epoch  |  Batch  |  Train Loss  |  Val Loss  |  Val Acc  |  Elapsed \n",
      "----------------------------------------------------------------------\n",
      "   2    |   20    |   0.374390   |     -      |     -     |   4.09   \n",
      "   2    |   40    |   0.341517   |     -      |     -     |   3.89   \n",
      "   2    |   46    |   0.293203   |     -      |     -     |   1.15   \n",
      "----------------------------------------------------------------------\n",
      "\n",
      "\n",
      "Training complete!\n"
     ]
    }
   ],
   "source": [
    "# Concatenate the train set and the validation set\n",
    "full_train_data = torch.utils.data.ConcatDataset([train_data, val_data])\n",
    "full_train_sampler = RandomSampler(full_train_data)\n",
    "full_train_dataloader = DataLoader(full_train_data, sampler=full_train_sampler, batch_size=32)\n",
    "\n",
    "# Train the Bert Classifier on the entire training data\n",
    "set_seed(42)\n",
    "bert_classifier, optimizer, scheduler = initialize_model(epochs=2)\n",
    "train(bert_classifier, full_train_dataloader, epochs=2)"
   ]
  },
  {
   "cell_type": "code",
   "execution_count": 77,
   "id": "7dc48475-975d-4e41-8c39-2e3be394499a",
   "metadata": {},
   "outputs": [
    {
     "data": {
      "text/html": [
       "<div>\n",
       "<style scoped>\n",
       "    .dataframe tbody tr th:only-of-type {\n",
       "        vertical-align: middle;\n",
       "    }\n",
       "\n",
       "    .dataframe tbody tr th {\n",
       "        vertical-align: top;\n",
       "    }\n",
       "\n",
       "    .dataframe thead th {\n",
       "        text-align: right;\n",
       "    }\n",
       "</style>\n",
       "<table border=\"1\" class=\"dataframe\">\n",
       "  <thead>\n",
       "    <tr style=\"text-align: right;\">\n",
       "      <th></th>\n",
       "      <th>review</th>\n",
       "    </tr>\n",
       "  </thead>\n",
       "  <tbody>\n",
       "    <tr>\n",
       "      <th>1500</th>\n",
       "      <td>Oh dear god. This was horrible. There is bad, ...</td>\n",
       "    </tr>\n",
       "    <tr>\n",
       "      <th>1501</th>\n",
       "      <td>Yes, bad acting isn't only one thing to mentio...</td>\n",
       "    </tr>\n",
       "    <tr>\n",
       "      <th>1502</th>\n",
       "      <td>I don't think that many films (especially come...</td>\n",
       "    </tr>\n",
       "    <tr>\n",
       "      <th>1503</th>\n",
       "      <td>One has to wonder if at any point in the produ...</td>\n",
       "    </tr>\n",
       "    <tr>\n",
       "      <th>1504</th>\n",
       "      <td>This time around, Blackadder is no longer roya...</td>\n",
       "    </tr>\n",
       "    <tr>\n",
       "      <th>...</th>\n",
       "      <td>...</td>\n",
       "    </tr>\n",
       "    <tr>\n",
       "      <th>1595</th>\n",
       "      <td>The unflappable William Powell. He is a joy to...</td>\n",
       "    </tr>\n",
       "    <tr>\n",
       "      <th>1596</th>\n",
       "      <td>What we have here is a downright brilliant pie...</td>\n",
       "    </tr>\n",
       "    <tr>\n",
       "      <th>1597</th>\n",
       "      <td>This is one of my favourite films, dating back...</td>\n",
       "    </tr>\n",
       "    <tr>\n",
       "      <th>1598</th>\n",
       "      <td>I have a feeling that the Warners Bros Depress...</td>\n",
       "    </tr>\n",
       "    <tr>\n",
       "      <th>1599</th>\n",
       "      <td>This is a novelty in Danish film. The mood is ...</td>\n",
       "    </tr>\n",
       "  </tbody>\n",
       "</table>\n",
       "<p>100 rows × 1 columns</p>\n",
       "</div>"
      ],
      "text/plain": [
       "                                                 review\n",
       "1500  Oh dear god. This was horrible. There is bad, ...\n",
       "1501  Yes, bad acting isn't only one thing to mentio...\n",
       "1502  I don't think that many films (especially come...\n",
       "1503  One has to wonder if at any point in the produ...\n",
       "1504  This time around, Blackadder is no longer roya...\n",
       "...                                                 ...\n",
       "1595  The unflappable William Powell. He is a joy to...\n",
       "1596  What we have here is a downright brilliant pie...\n",
       "1597  This is one of my favourite films, dating back...\n",
       "1598  I have a feeling that the Warners Bros Depress...\n",
       "1599  This is a novelty in Danish film. The mood is ...\n",
       "\n",
       "[100 rows x 1 columns]"
      ]
     },
     "execution_count": 77,
     "metadata": {},
     "output_type": "execute_result"
    }
   ],
   "source": [
    "# Keep important columns\n",
    "test_data = df_test[['review']]\n",
    "test_data"
   ]
  },
  {
   "cell_type": "code",
   "execution_count": 78,
   "id": "22ca2098-7ff2-4c22-bcab-79e73fd95791",
   "metadata": {},
   "outputs": [
    {
     "name": "stdout",
     "output_type": "stream",
     "text": [
      "Tokenizing data...\n"
     ]
    },
    {
     "name": "stderr",
     "output_type": "stream",
     "text": [
      "/home/anjaliraj/miniconda3/lib/python3.12/site-packages/transformers/tokenization_utils_base.py:2645: FutureWarning: The `pad_to_max_length` argument is deprecated and will be removed in a future version, use `padding=True` or `padding='longest'` to pad to the longest sequence in the batch, or use `padding='max_length'` to pad to a max length. In this case, you can give a specific length with `max_length` (e.g. `max_length=45`) or leave max_length to None to pad to the maximal input size of the model (e.g. 512 for Bert).\n",
      "  warnings.warn(\n"
     ]
    }
   ],
   "source": [
    "# Run `preprocessing_for_bert` on the test set\n",
    "print('Tokenizing data...')\n",
    "test_inputs, test_masks = preprocessing_for_bert(df_test.review)\n",
    "\n",
    "# Create the DataLoader for our test set\n",
    "test_dataset = TensorDataset(test_inputs, test_masks)\n",
    "test_sampler = SequentialSampler(test_dataset)\n",
    "test_dataloader = DataLoader(test_dataset, sampler=test_sampler, batch_size=32)"
   ]
  },
  {
   "cell_type": "code",
   "execution_count": 79,
   "id": "33cfe8ce-a83a-4116-9967-f3edb184739f",
   "metadata": {},
   "outputs": [
    {
     "name": "stdout",
     "output_type": "stream",
     "text": [
      "Number of tweets predicted non-negative:  23\n"
     ]
    }
   ],
   "source": [
    "# Compute predicted probabilities on the test set\n",
    "probs = bert_predict(bert_classifier, test_dataloader)\n",
    "\n",
    "# Get predictions from the probabilities\n",
    "threshold = 0.9\n",
    "preds = np.where(probs[:, 1] > threshold, 1, 0)\n",
    "\n",
    "# Number of tweets predicted non-negative\n",
    "print(\"Number of tweets predicted non-negative: \", preds.sum())"
   ]
  },
  {
   "cell_type": "code",
   "execution_count": 80,
   "id": "9de9e9ff-5b92-4f59-8d09-b65f4c029f37",
   "metadata": {},
   "outputs": [
    {
     "name": "stdout",
     "output_type": "stream",
     "text": [
      "(100, 2)\n"
     ]
    }
   ],
   "source": [
    "print(probs.shape)\n",
    "preds = (probs[:,1] > 0.9)\n",
    "res = []\n",
    "\n",
    "for i in preds:\n",
    "    if i == False:\n",
    "        res.append(0)\n",
    "    else:\n",
    "        res.append(1)\n",
    "\n",
    "ground_truths = df_test['sentiment'].values.tolist()"
   ]
  },
  {
   "cell_type": "code",
   "execution_count": 81,
   "id": "44402d57-56a6-41b2-845a-edebd7ad55e2",
   "metadata": {},
   "outputs": [
    {
     "data": {
      "text/plain": [
       "100"
      ]
     },
     "execution_count": 81,
     "metadata": {},
     "output_type": "execute_result"
    }
   ],
   "source": [
    "len(ground_truths)"
   ]
  },
  {
   "cell_type": "code",
   "execution_count": 82,
   "id": "abf2d52c-5671-461f-bbbd-77e2e3015bfb",
   "metadata": {},
   "outputs": [
    {
     "name": "stdout",
     "output_type": "stream",
     "text": [
      "Accuracy: 0.73\n"
     ]
    },
    {
     "data": {
      "image/png": "[encoded data removed]",
      "text/plain": [
       "<Figure size 800x600 with 2 Axes>"
      ]
     },
     "metadata": {},
     "output_type": "display_data"
    }
   ],
   "source": [
    "from sklearn.metrics import accuracy_score\n",
    "import matplotlib.pyplot as plt\n",
    "from sklearn.metrics import confusion_matrix, precision_recall_curve, roc_curve, auc, classification_report\n",
    "from sklearn.preprocessing import label_binarize\n",
    "from itertools import cycle\n",
    "import seaborn as sns\n",
    "\n",
    "accuracy = accuracy_score(ground_truths,res)\n",
    "print(\"Accuracy:\", accuracy)\n",
    "\n",
    "cm = confusion_matrix(ground_truths,res)\n",
    "\n",
    "plt.figure(figsize=(8, 6))\n",
    "sns.heatmap(cm, annot=True, fmt='d', cmap='Blues', linewidths=.5, annot_kws={\"size\": 16})\n",
    "plt.xlabel('Predicted labels')\n",
    "plt.ylabel('True labels')\n",
    "plt.title('Confusion Matrix')\n",
    "plt.show()"
   ]
  },
  {
   "cell_type": "code",
   "execution_count": 83,
   "id": "1292bca0-44ac-457e-bfe1-29db1cc18932",
   "metadata": {},
   "outputs": [],
   "source": [
    "output = test_data[preds==1]"
   ]
  },
  {
   "cell_type": "code",
   "execution_count": 84,
   "id": "913ee14c-be76-45e6-9f55-e91bc1f52877",
   "metadata": {},
   "outputs": [
    {
     "data": {
      "text/plain": [
       "['Australian Fred Schepisi (A Cry in the Dark) directs this comedy/ romance that is fun, relaxing, and set in the spring. You will laugh while watching this movie. Tim Robbins (Shawshank Redemption, Dead Man Walking) is an auto mechanic, Ed Walters, with a high IQ, which gets higher with the help of Albert Einstein, Walter Matthau (Grumpy Old Men) and his academic friends Nathan, Kurt and Boris. You can tell them by their preppie shoes. Meg Ryan (Sleepless in Seattle, You\\'ve Got Mail) is Catherine Boyd, Einstein\\'s niece who is a competent, but not so confident mathematician. Perhaps it is because she is surrounded by all that genius. She thinks that if she marries someone with a high I.Q. her kids will have a high I.Q. as well, but she does not knows what she wants. Between Tim Robbins cute smile and Meg\\'s cuteness this is a refreshing movie. I love sweet stories. People all ages should enjoy this movie. Catherine is engaged to the jerk James Moreland, who works in animal behavior, but is very stuffy. This is a love a first sight type situation, between the mechanic and the mathematician. Witty lines and subliminal lines! The cinematography is nice. Princeton, New Jersey is beautiful in the Spring. With much help from all those brilliant men Catherine falls for Ed, without knowing that he is an automobile mechanic.<br /><br />Favorite Scenes: Ed taking a multiple choice test in front of a crowd with the help of Einstein, Nathan, Kurt, and Boris. Ed and Einstein riding on the motorcycle. Nathan, Kurt and Boris letting all the research animals free!<br /><br />Favorite Quotes: Albert Einstein: \"Don\\'t let your brain interfere with your heart\". Ed Walters: \"When was the last time he said \"Wahoo\"\"? Catherine Boyd: \"Well I\\'m sure I don\\'t know\". This is a refreshing movie, I recommend it. I have the tape and every once and awhile I will watch it again.',\n",
       " \"In the 2nd of his Historical Martial Arts films, Chiba portrays his real life sensei Mas Oyama. The film even recreates Oyama's incredible feat of killing a raging bull with his bare hands (Oyama did this feat over 50 times in real life). Dynamic fight choreography featuring authentic Kyokushinkai techniques. Ironically this is one of the rare Sonny Chiba films in which he DOESN'T tear out or rip off body parts of opponents. A must see for Sonny Chiba fans definitely one of his top 5 films\",\n",
       " \"The film had many fundamental values of family and love. It expressed human emotion and was an inspiring story. The script was clear( it was very easy to understand making it perfect for children)and was enjoyable and humorous at times. There were a few charged symbols to look for. The cinematography was acceptable. There was no sense of experimentation that a lot of cinematographers have been doing today(which quiet frankly is getting a little warn out). It was plainly filmed but had a nice soft quality to it. Although editing could have been done better I thought it was a nice movie for a family to enjoy. And the organization of information was just thrown at you which was something I didn't like either but in all it was a good movie.\",\n",
       " \"Wow,this is in my opinion the best sitcom since Friends. If you have had a crap day just sit yourself down with a beer (if you are old enough that is.if not a root beer will have to do.) and watch a couple of episodes,it's the perfect recipe for happiness.<br /><br />The thing I like most is that everybody in the show is very funny and they all have fantastic comedy timing. After a while you become attached to the characters and really care about them. I think the secret to the shows success is that they have an enviable life. Doug is fat but still happy with it,he loves his wife his job and his friends. The father in law is the fly in the ointment but hey nothings perfect.\",\n",
       " 'This is really good. Original ideas in the film and a great terrorist action film. Only second to die hard and die hard with a vengeance, this film has suspense and a good plot. I would recommend it to anyone with a taste in films like mine; Action, terrorism and gangster/mafia.',\n",
       " 'True Love, I truly enjoyed and LOVED this movie. It was fun, funny and inspirational. I just saw it on DVD. How did I miss this one it\\'s a winner! I mean Flex was \"That Guy\". I wanted to marry him. This was my 1st time seeing him as a straight leading man and he pulls it off. I thought Tangi Miller was the best ever and I was a Felicity head too. A fearless woman who only fears her Nana. Thank You for giving women of color range in your work and she looks great! Tasha Smith was a Blast! Aloma Wright was priceless as Nana. This cute romantic comedy is \"A Must See\". Oh and the new comer Marcus Patrick is worth the surprise ladies...True Love. Karen',\n",
       " 'For only doing a few movies with his life the Late Great Chris Farley. Farley died at the end of 1997 and will be missed mostly by his co actor in Tommy Boy, David Spade. From the lame Police Academy 4 Spade really has done good with his career in films. Tommy Boy is a classic and we will always remember Chris Farley when we watch it. From appearing on Saturday NIGHT LIVE to doing Tommy Boy, Black Sheep, Beverley Hills Ninja, Almost Heroes, Billy Madison, and Dirty Work. I think Chris Farley had a short and successful career. Tommy Boy was his best in my case and I would watch over and over again and laugh at the same part each time. Thank you Chris Farley.',\n",
       " \"I play final fantasy 7, and this movie is EXCELLENT like the game, all fans of final fantasy will love this movie. <br /><br />The music are fantastic and the history is good, but, the best of this movie is the visual effects, are amazing. The characters are equal to the game and that detail are good for the fans. <br /><br />You don't need play the game to like this movie, all the people can enjoy the film, because the history is some different and is easy to understand. I buy the DVD because is EXCELLENT, IS 100% ADVISABLE, if you don't see this film, what you waiting for? believe me,you will fascinate like me\",\n",
       " 'The best movie about friendship! Especially between an AIDs infected person and a \" normal \" person. This is a great movie for everyone to see even though there is strong language used. I have seen it 25 times.',\n",
       " \"I was so happy to learn that Hari Om will finally be theatrically released in 2007. I saw this film three years ago at the Vancouver International film Festival and have been waiting for it's release ever since so I could send everyone I know to see it. It's like taking a trip to India....colorful, magical, thought provoking. Aside from one rather strange Hollywood style auto rickshaw chase scene this movie is very realistic. This is not a Bollywood style song and dance movie but it does have drama and romance and humor. The interactions between the Indian taxi driver and the french tourist are a good reflection on the fundamental differences between Eastern and Western life styles and philosophy. The characters are a little broadly drawn but the acting was very good. Visually this movie is a treat as you really do get a sense of what driving through Rajasthan is like...dreamlike. Sometimes it's hard to believe everything you are seeing and experiencing is real...the movie has that same quality. Great soundtrack too!\",\n",
       " \"This movie is one of the most provocative Jesus movies I have ever seen. It does not seek to tell the whole story, but only to portray an interpretive expression of the last day of Jesus Christ. It is darkly witty, playful and seriously faithful to elements of the Jewish tradition and to modern scriptural interpretation. Judas is much more ordinary than other portrayals, not the dark and sinister evil that we sometimes imagine, but a grossly mistaken man, horribly misguided in his zeal. Chris Saranden's Jesus is playful and serious, faithful and committed--very human while also divine. The final dialog is thoughtfully done and serves as the kind of small talk that two powerful men might do when they have just committed an atrocity. I would watch this movie again and recommend it to others.\",\n",
       " \"One of the most magnificent movies ever made. The acting of Charles Buchinski (later known as Bronson) is simply outstanding. This is the crown on the career of director Winner, who himself was often quoted saying this was his masterpiece. The plot has been copied many times, but it's never been topped. Wildey J. Moore, the gun manufacturer, many times claimed his brand's growth since the mid 80s can be fully credited to DW3, and rightly so. This is not just a movie, this is art that many generations will admire and appreciate. Although this movie has never been fully appreciated in the USA, it has found a huge following in Europe and Asia, where the movie is regularly shown at film schools and it is still a popular hit in student cinemas all across Europe. All in all, a true classic.\",\n",
       " \"I had my doubts about another love story wherein disabled individuals find meaning and redemption through honest communication. And it's still not at the top of my list. But the performances from Helena Bonham Carter and Kenneth Branagh and exemplary, almost stunning, and rescue this from being just another tear-jerker. Carter's depiction of an ALS victim is strong, perhaps even overdone at times (sometimes her dialog dissolves into undistinguishable mutterings). But the overall effect is commendable and rewarding. Branagh may be the perfect compliment to her performance.<br /><br />\",\n",
       " \"I would reccomend this film to everyone. Not only to the fans of the rocker Luciano Ligabue, but to all film-buffs. Because it's sincere, moving, funny and true. Because Ligabue is a born storyteller and a film lover, and every frame of his film is made with love and care. Because his characters are loved and ask to be loved. Because most of the Italian debut films are lousy and this one, done by an outsider, is a real joy to watch and to listen at. Because Stefano Accorsi is gorgeous and reminds me of Andrea Pazienza, who was, like Freccia, beautiful and talented and good and lost his life because of the heroin, that Ligabue shows as it is, unglamorous and ugly, without indulging in easy moralisms. Because it's a film that speaks to our heart, our ears, our souls. And because I lived the experience of the FM radios and it was exactly like that. Thanks, Luciano!\",\n",
       " \"Rajkumar Santoshi Without Any Doubt Has Directed The Greatest Movies And Biggest Box Office Hits Of Indian Cinema.<br /><br />This Movie Falls Short Of All Expectations As This Movie Stars Two Great Actors Mr. Amitabh Bachchan And Akshay Kumar And When You Have These Two Actors In The Same Movie You Have To Make A Magnum Opus.<br /><br />In The Later Part Of The Movie You Can Make Out That Amitabh Bachchan's Voice Has Been Dubbed By Some Other Person Which Was Due To His Illness.<br /><br />Still The Movie Did'nt Had Proper Character Development Plus Cinematography Was'nt Good Too And One Thing That Bollywood Should Learn Is That They Should Use Visual Effects Only When It Is Needed And When Applied Should Be Done With A High Budget.The Script Had So Many Flaws Which Gives The Viewer Excuses To Attend His Phone Calls Rather Than Watching The Movie.<br /><br />The New Comer Shakes The Leg Well But Could Not Act Well But Where The Movie Loses Big Time Is The Storyline Screenplay And Cinematography.<br /><br />A Talented Actor Like Bhoomika Chawla Has Been Wasted In The Movie As Well As Sushant Singh.<br /><br />But Every Director Once In A While In His Career Makes A Bad Film.<br /><br />So Watch It Only If You Are A Fan Of Multi-Starrer Flop Movies.\",\n",
       " \"This one is a great one! Robert De Niro and Cuba Gooding have teamed up to make a powerful and very influential film. This is the true story of the first black US Navy diver and the obstacles he faced in attaining his certification at the hands of a racist Master diver. Along the way, he must also face plain old bigotry from all of his classmates, none of whom want him in their class. They move out of the barracks when he arrives. Ultimately, he becomes certified and goes on to have a great career as a US Navy diver. Watch this one! It's a great tale of courage and honor. As the story unfolds, we get to watch racism slowly dissipate and everyone begins to respect men one at a time.\",\n",
       " 'Uncompromising look at a suburb in 21st century Vienna mixing the stories of six groups of characters by former documentary maker U.Seidl is a provocative, minimalistic and intense piece of observation cinema.<br /><br />After the world-wide spread of Big Brother reality shows, Hundstage takes modern voyeurism to an unsettling, profound level. Hard to like but unignorable piece of European art-cinema might seem cruel and seedy, yet manages to convey the nihilistic alienated feeling of modern society in a praiseworthy manner.<br /><br />A must for lovers of world cinema.',\n",
       " 'This is one of my favourite films, dating back to my childhood. Set in the remote wilderness of Siberia at the turn of the century, a small community is stirred when an extremely cold winter forces two tigers to come down from the mountains in search of food, preying on outlying farms. In this atmosphere we are introduced to Avakum, a hermit fur trapper, who lives out in the wilds, as he comes to the village to sell his annual catch to Boris, his close, and rather only, friend in the village, who runs a store. At Boris\\' request, Avakum accompanies his friend\\'s arrogant son, Ivan, on the hunt for the menacing tigers. Personalities crash and tempers flare as the older, more experienced Avakum criticises Ivan\\'s amateur methods, an encounter noticed also by the other members of the hunt. On the second day, the hunters sight their prey and give chase. In a thick wood, Ivan wounds one of the tigers, which then attacks the hapless man. Avakum, seeing Ivan tangling with the enraged beast, fires, but accidently hits Ivan. He kills the tiger as it flees. The other hunters arrive on the scene, suspicious.<br /><br />Back in the village, the doctor works to save the wounded Ivan. Avakum attempts to leave the village, but is confronted by Ivan\\'s friends. The trapper brushes them off however, and speeds off with his dog-drawn sled. The young villagers swear after him that they\\'ll come for him if Ivan dies, which he later does, but before dying explains to his father that it was an accident. Old Boris, upon learning of his close friend being run out of the village, straightens out the gathering \"lynch mob\" and goes out after Avakum, to find him and set things right. And so the main story begins.<br /><br />A simple film, it raises the conflict of man and civilisation versus nature, mainly Avakum\\'s struggle to survive alone out in the wilderness. The winter landscape is very well filmed. Perhaps the strongest element in the film is the soundtrack by Jimmie Haskell. Very sentimental and evocative, the main theme reminiscent of Albinoni\\'s Adagio. Other movements reflect Russian styles, as well as a couple of folk music type tunes.<br /><br />Unfortunately, this film is not available to buy, to my knowledge, which is rather a shame. The copy I own, recorded off TV nearly twenty years ago is slowly deteriorating. This film is a must see for those who can appreciate it, if they can find it. 8/10',\n",
       " \"On first watching this film it is hard to know quite what has happened, but on a subsequent viewing it become more clear. I enjoyed this movie. Dean Cain was excellent in the role of Bob. Lexa Doig's character was confusing to understand, at first, she was out to trap Bob but i really believe she landed up loving him although by then she had broken his heart. Dean Cain's performance was an usual excellent. He gets better with every film he does. My only question at the end of the film was what happened to Bob, Camilla and the baby. It was left for the viewer to decide\",\n",
       " 'A comedy that worked surprisingly well was the little British effort \"The Divorce Of Lady X (1938)\" . It marks the first pairing of Laurence Olivier and Merle Oberon, before that little film about uncontrollable passion on the 19th century English moors. And while Olivier and Oberon are not particularly well-suited to screwball comedy, it all flows along nicely. Oberon is Leslie, a young woman who ends up in priggish divorce lawyer Logan\\'s (Olivier) hotel suite by way of a nasty English fog preventing travel. She does everything possible to irritate him--but, in the crazy way films go, he falls for her. And she falls for him. But a serious case of mistaken identity occurs when Oberon\\'s \"Lady X\" (that\\'s all she leaves Oliver in a note) is thought by Olivier to be a married woman. To make matters worse, and more amusing, Lord Mere (Ralph Richardson) goes to Olivier wanting a divorce from his wife whom dear Larry thinks must be Oberon! There is some nice battle-of-the-sexes dialogue, and fun exploration of sexual politics. You can see that Olivier is not too confident with the comedy, but in true Olivier he\\'s a consummate professional, and delivers. And he handles the screwball twists and turns, maybe not with ease, but with gusto. Oberon was no great shakes as an actress, but she was usually competent enough, and despite their reputed off-screen dislike of her, worked well with Olivier. This was filmed in early Technicolour that looks very primitive today (everyone looks even whiter than Michael Jackson), but perhaps the print needs cleaning up.']"
      ]
     },
     "execution_count": 84,
     "metadata": {},
     "output_type": "execute_result"
    }
   ],
   "source": [
    "list(output.sample(20).review)"
   ]
  },
  {
   "cell_type": "code",
   "execution_count": 85,
   "id": "10d9d6d5-2b18-4eee-93d1-5e85f130f771",
   "metadata": {},
   "outputs": [
    {
     "name": "stdout",
     "output_type": "stream",
     "text": [
      "Fri Apr 12 11:34:51 2024       \n",
      "+-----------------------------------------------------------------------------------------+\n",
      "| NVIDIA-SMI 550.54.14              Driver Version: 550.54.14      CUDA Version: 12.4     |\n",
      "|-----------------------------------------+------------------------+----------------------+\n",
      "| GPU  Name                 Persistence-M | Bus-Id          Disp.A | Volatile Uncorr. ECC |\n",
      "| Fan  Temp   Perf          Pwr:Usage/Cap |           Memory-Usage | GPU-Util  Compute M. |\n",
      "|                                         |                        |               MIG M. |\n",
      "|=========================================+========================+======================|\n",
      "|   0  NVIDIA A40                     Off |   00000000:CA:00.0 Off |                    0 |\n",
      "|  0%   63C    P0            245W /  300W |   33230MiB /  46068MiB |     97%      Default |\n",
      "|                                         |                        |                  N/A |\n",
      "+-----------------------------------------+------------------------+----------------------+\n",
      "                                                                                         \n",
      "+-----------------------------------------------------------------------------------------+\n",
      "| Processes:                                                                              |\n",
      "|  GPU   GI   CI        PID   Type   Process name                              GPU Memory |\n",
      "|        ID   ID                                                               Usage      |\n",
      "|=========================================================================================|\n",
      "|    0   N/A  N/A   1942753      C   python                                       7804MiB |\n",
      "|    0   N/A  N/A   1950719      C   /home/anjaliraj/miniconda3/bin/python        3442MiB |\n",
      "|    0   N/A  N/A   1951491      C   /home/anjaliraj/miniconda3/bin/python       18584MiB |\n",
      "|    0   N/A  N/A   1953826      C   /home/anjaliraj/miniconda3/bin/python        3376MiB |\n",
      "+-----------------------------------------------------------------------------------------+\n"
     ]
    }
   ],
   "source": [
    "!nvidia-smi"
   ]
  },
  {
   "cell_type": "code",
   "execution_count": null,
   "id": "4aac2250-90c6-4cd9-b3f0-1e95ba253aa9",
   "metadata": {},
   "outputs": [],
   "source": []
  }
 ],
 "metadata": {
  "kernelspec": {
   "display_name": "Python 3 (ipykernel)",
   "language": "python",
   "name": "python3"
  },
  "language_info": {
   "codemirror_mode": {
    "name": "ipython",
    "version": 3
   },
   "file_extension": ".py",
   "mimetype": "text/x-python",
   "name": "python",
   "nbconvert_exporter": "python",
   "pygments_lexer": "ipython3",
   "version": "3.12.1"
  }
 },
 "nbformat": 4,
 "nbformat_minor": 5
}
